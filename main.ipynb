{
 "cells": [
  {
   "cell_type": "code",
   "execution_count": 1,
   "metadata": {},
   "outputs": [],
   "source": [
    "from macro_module.create_finctional_game import create_finctional_game\n",
    "from macro_module.preference import setup_do_not_disturb, setup_dump_game_logs, optimize_run\n",
    "from macro_module.dump import dump_player_ratings\n",
    "from macro_module.play_game import play_until_playoff_end, play_until_preseason_begin"
   ]
  },
  {
   "cell_type": "code",
   "execution_count": 8,
   "metadata": {},
   "outputs": [
    {
     "data": {
      "text/plain": [
       "True"
      ]
     },
     "execution_count": 8,
     "metadata": {},
     "output_type": "execute_result"
    }
   ],
   "source": [
    "create_finctional_game('test_1739')"
   ]
  },
  {
   "cell_type": "code",
   "execution_count": 9,
   "metadata": {},
   "outputs": [
    {
     "name": "stdout",
     "output_type": "stream",
     "text": [
      "Point(x=703, y=584)\n",
      "Point(x=711, y=293)\n",
      "Point(x=692, y=388)\n",
      "Point(x=747, y=370)\n"
     ]
    }
   ],
   "source": [
    "optimize_run()\n",
    "setup_dump_game_logs(True)\n",
    "setup_do_not_disturb()"
   ]
  },
  {
   "cell_type": "code",
   "execution_count": 2,
   "metadata": {},
   "outputs": [
    {
     "name": "stdout",
     "output_type": "stream",
     "text": [
      "[Box(left=957, top=376, width=48, height=15), Box(left=952, top=522, width=48, height=15), Box(left=935, top=586, width=48, height=15), Box(left=928, top=696, width=48, height=15)]\n"
     ]
    }
   ],
   "source": [
    "dump_player_ratings()"
   ]
  },
  {
   "cell_type": "code",
   "execution_count": null,
   "metadata": {},
   "outputs": [],
   "source": [
    "play_until_playoff_end()"
   ]
  }
 ],
 "metadata": {
  "kernelspec": {
   "display_name": "Python 3",
   "language": "python",
   "name": "python3"
  },
  "language_info": {
   "codemirror_mode": {
    "name": "ipython",
    "version": 3
   },
   "file_extension": ".py",
   "mimetype": "text/x-python",
   "name": "python",
   "nbconvert_exporter": "python",
   "pygments_lexer": "ipython3",
   "version": "3.11.0"
  },
  "orig_nbformat": 4
 },
 "nbformat": 4,
 "nbformat_minor": 2
}

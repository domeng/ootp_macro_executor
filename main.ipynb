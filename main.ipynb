{
 "cells": [
  {
   "cell_type": "code",
   "execution_count": 2,
   "metadata": {},
   "outputs": [],
   "source": [
    "from ui_macro.create_finctional_game import create_finctional_game\n",
    "from ui_macro.preference import setup_do_not_disturb, setup_dump_game_logs, optimize_run\n",
    "from ui_macro.dump import dump_player_roaster, dump_csv\n",
    "from ui_macro.play_game import play_until_playoff_end, play_until_preseason_begin\n",
    "from ui_macro.play_game import find_and_click, i, wait_image\n",
    "import time"
   ]
  },
  {
   "cell_type": "code",
   "execution_count": 2,
   "metadata": {},
   "outputs": [
    {
     "data": {
      "text/plain": [
       "True"
      ]
     },
     "execution_count": 2,
     "metadata": {},
     "output_type": "execute_result"
    }
   ],
   "source": [
    "create_finctional_game('test_8001')"
   ]
  },
  {
   "cell_type": "code",
   "execution_count": 6,
   "metadata": {},
   "outputs": [
    {
     "name": "stdout",
     "output_type": "stream",
     "text": [
      "Point(x=728, y=669)\n",
      "Point(x=736, y=378)\n",
      "Point(x=717, y=473)\n",
      "Point(x=772, y=455)\n"
     ]
    }
   ],
   "source": [
    "time.sleep(5)\n",
    "optimize_run()\n",
    "setup_dump_game_logs(True)\n",
    "setup_do_not_disturb()\n",
    "play_until_playoff_end()\n",
    "dump_csv()"
   ]
  },
  {
   "cell_type": "code",
   "execution_count": 36,
   "metadata": {},
   "outputs": [],
   "source": [
    "def one_cycle(gamename):\n",
    "    print (gamename)\n",
    "    create_finctional_game(gamename)\n",
    "    time.sleep(5)\n",
    "    wait_image(i('in_game_file_tab'))\n",
    "    optimize_run()\n",
    "    setup_dump_game_logs(True)\n",
    "    setup_do_not_disturb()\n",
    "    play_until_playoff_end()\n",
    "    dump_csv()\n",
    "    find_and_click(i('in_game_file_tab'))\n",
    "    find_and_click(i('go_to_start_screen'))\n",
    "    wait_image(i('start'), max_wait=300)\n",
    "    time.sleep(10)\n"
   ]
  },
  {
   "cell_type": "code",
   "execution_count": 7,
   "metadata": {},
   "outputs": [
    {
     "name": "stdout",
     "output_type": "stream",
     "text": [
      "test_8014\n",
      "Point(x=728, y=669)\n",
      "Point(x=736, y=378)\n",
      "Point(x=717, y=473)\n",
      "Point(x=772, y=455)\n",
      "test_8015\n",
      "Point(x=728, y=669)\n",
      "Point(x=736, y=378)\n",
      "Point(x=717, y=473)\n",
      "Point(x=772, y=455)\n"
     ]
    }
   ],
   "source": [
    "time.sleep(10)\n",
    "for idx in range(8014, 8016):\n",
    "    one_cycle('test_' + str(idx))"
   ]
  },
  {
   "cell_type": "code",
   "execution_count": 30,
   "metadata": {},
   "outputs": [
    {
     "data": {
      "text/plain": [
       "<function macro_module.common.i(filename)>"
      ]
     },
     "execution_count": 30,
     "metadata": {},
     "output_type": "execute_result"
    }
   ],
   "source": [
    "i"
   ]
  },
  {
   "cell_type": "code",
   "execution_count": null,
   "metadata": {},
   "outputs": [],
   "source": [
    "dump_csv()"
   ]
  }
 ],
 "metadata": {
  "kernelspec": {
   "display_name": "Python 3 (ipykernel)",
   "language": "python",
   "name": "python3"
  },
  "language_info": {
   "codemirror_mode": {
    "name": "ipython",
    "version": 3
   },
   "file_extension": ".py",
   "mimetype": "text/x-python",
   "name": "python",
   "nbconvert_exporter": "python",
   "pygments_lexer": "ipython3",
   "version": "3.11.3"
  }
 },
 "nbformat": 4,
 "nbformat_minor": 2
}

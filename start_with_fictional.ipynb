{
 "cells": [
  {
   "cell_type": "code",
   "execution_count": 52,
   "id": "0f7ef5b3",
   "metadata": {},
   "outputs": [],
   "source": [
    "import pyautogui as pg\n",
    "import time\n",
    "from common import find_and_click, wait_image"
   ]
  },
  {
   "cell_type": "code",
   "execution_count": 53,
   "id": "5d8b83d6",
   "metadata": {},
   "outputs": [],
   "source": [
    "IMG_PATH = './images/ootp24/'"
   ]
  },
  {
   "cell_type": "code",
   "execution_count": 54,
   "id": "e15e378d",
   "metadata": {},
   "outputs": [
    {
     "data": {
      "text/plain": [
       "True"
      ]
     },
     "execution_count": 54,
     "metadata": {},
     "output_type": "execute_result"
    }
   ],
   "source": [
    "find_and_click(IMG_PATH + 'start.png')"
   ]
  },
  {
   "cell_type": "code",
   "execution_count": 55,
   "id": "9001d75a",
   "metadata": {},
   "outputs": [
    {
     "data": {
      "text/plain": [
       "True"
      ]
     },
     "execution_count": 55,
     "metadata": {},
     "output_type": "execute_result"
    }
   ],
   "source": [
    "find_and_click(IMG_PATH + 'optout_challenge.png')"
   ]
  },
  {
   "cell_type": "code",
   "execution_count": 56,
   "id": "18355946",
   "metadata": {},
   "outputs": [
    {
     "data": {
      "text/plain": [
       "True"
      ]
     },
     "execution_count": 56,
     "metadata": {},
     "output_type": "execute_result"
    }
   ],
   "source": [
    "wait_image(IMG_PATH + 'start_fictional.png')\n",
    "find_and_click(IMG_PATH + 'start_fictional.png')"
   ]
  },
  {
   "cell_type": "code",
   "execution_count": 57,
   "id": "b4bd5896",
   "metadata": {},
   "outputs": [
    {
     "data": {
      "text/plain": [
       "True"
      ]
     },
     "execution_count": 57,
     "metadata": {},
     "output_type": "execute_result"
    }
   ],
   "source": [
    "find_and_click(IMG_PATH + 'next_step.png', release_focus=True)"
   ]
  },
  {
   "cell_type": "code",
   "execution_count": null,
   "id": "26475c9b",
   "metadata": {},
   "outputs": [],
   "source": []
  },
  {
   "cell_type": "code",
   "execution_count": 58,
   "id": "a0e5ec0d",
   "metadata": {},
   "outputs": [
    {
     "data": {
      "text/plain": [
       "True"
      ]
     },
     "execution_count": 58,
     "metadata": {},
     "output_type": "execute_result"
    }
   ],
   "source": [
    "wait_image(IMG_PATH + 'step_2_of_6.png')\n",
    "find_and_click(IMG_PATH + 'next_step.png', release_focus=True)"
   ]
  },
  {
   "cell_type": "code",
   "execution_count": 59,
   "id": "ec09bb33",
   "metadata": {},
   "outputs": [
    {
     "data": {
      "text/plain": [
       "True"
      ]
     },
     "execution_count": 59,
     "metadata": {},
     "output_type": "execute_result"
    }
   ],
   "source": [
    "wait_image(IMG_PATH + 'step_3_of_6.png')\n",
    "find_and_click(IMG_PATH + 'toggle_fantasydraft.png')\n",
    "find_and_click(IMG_PATH + 'next_step.png')"
   ]
  },
  {
   "cell_type": "code",
   "execution_count": 60,
   "id": "8adc5361",
   "metadata": {},
   "outputs": [
    {
     "data": {
      "text/plain": [
       "True"
      ]
     },
     "execution_count": 60,
     "metadata": {},
     "output_type": "execute_result"
    }
   ],
   "source": [
    "wait_image(IMG_PATH + 'step_4_of_6.png')\n",
    "find_and_click(IMG_PATH + 'toggle_leagueevolv.png')\n",
    "find_and_click(IMG_PATH + 'next_step.png')"
   ]
  },
  {
   "cell_type": "code",
   "execution_count": 61,
   "id": "a334b5b6",
   "metadata": {},
   "outputs": [
    {
     "data": {
      "text/plain": [
       "True"
      ]
     },
     "execution_count": 61,
     "metadata": {},
     "output_type": "execute_result"
    }
   ],
   "source": [
    "find_and_click(IMG_PATH + 'textinput_newgame.png')\n",
    "pg.press('delete')\n",
    "pg.typewrite('autotest_20230521')\n",
    "time.sleep(1)\n",
    "find_and_click(IMG_PATH + 'next_step.png', release_focus=True)"
   ]
  },
  {
   "cell_type": "code",
   "execution_count": 62,
   "id": "298fe5ba",
   "metadata": {},
   "outputs": [
    {
     "data": {
      "text/plain": [
       "True"
      ]
     },
     "execution_count": 62,
     "metadata": {},
     "output_type": "execute_result"
    }
   ],
   "source": [
    "wait_image(IMG_PATH + 'step_6_of_6.png', max_wait=60)\n",
    "find_and_click(IMG_PATH + 'start_game.png')"
   ]
  },
  {
   "cell_type": "code",
   "execution_count": 63,
   "id": "5459b361",
   "metadata": {},
   "outputs": [
    {
     "data": {
      "text/plain": [
       "True"
      ]
     },
     "execution_count": 63,
     "metadata": {},
     "output_type": "execute_result"
    }
   ],
   "source": [
    "wait_image(IMG_PATH + 'in_game_file_tab.png')"
   ]
  },
  {
   "cell_type": "code",
   "execution_count": null,
   "id": "4cab4a86",
   "metadata": {},
   "outputs": [],
   "source": []
  }
 ],
 "metadata": {
  "kernelspec": {
   "display_name": "Python 3 (ipykernel)",
   "language": "python",
   "name": "python3"
  },
  "language_info": {
   "codemirror_mode": {
    "name": "ipython",
    "version": 3
   },
   "file_extension": ".py",
   "mimetype": "text/x-python",
   "name": "python",
   "nbconvert_exporter": "python",
   "pygments_lexer": "ipython3",
   "version": "3.11.0"
  }
 },
 "nbformat": 4,
 "nbformat_minor": 5
}

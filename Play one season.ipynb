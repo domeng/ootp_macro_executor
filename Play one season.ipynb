{
 "cells": [
  {
   "cell_type": "code",
   "execution_count": 1,
   "id": "afc45441",
   "metadata": {},
   "outputs": [],
   "source": [
    "import pyautogui as pg\n",
    "import time\n",
    "from common import find_and_click, wait_image"
   ]
  },
  {
   "cell_type": "code",
   "execution_count": 2,
   "id": "4e6e51f4",
   "metadata": {},
   "outputs": [],
   "source": [
    "img_path = './images/ootp24/'\n",
    "def i(path):\n",
    "    return img_path + path + '.png'"
   ]
  },
  {
   "cell_type": "code",
   "execution_count": 3,
   "id": "bce375e2",
   "metadata": {},
   "outputs": [
    {
     "data": {
      "text/plain": [
       "True"
      ]
     },
     "execution_count": 3,
     "metadata": {},
     "output_type": "execute_result"
    }
   ],
   "source": [
    "find_and_click(i('play'))\n",
    "find_and_click(i('until_playoff_end'))"
   ]
  },
  {
   "cell_type": "code",
   "execution_count": 4,
   "id": "73d6de52",
   "metadata": {},
   "outputs": [
    {
     "data": {
      "text/plain": [
       "True"
      ]
     },
     "execution_count": 4,
     "metadata": {},
     "output_type": "execute_result"
    }
   ],
   "source": [
    "wait_image(i('offseason'), max_wait=600)"
   ]
  },
  {
   "cell_type": "code",
   "execution_count": 5,
   "id": "65a50bc1",
   "metadata": {},
   "outputs": [
    {
     "data": {
      "text/plain": [
       "True"
      ]
     },
     "execution_count": 5,
     "metadata": {},
     "output_type": "execute_result"
    }
   ],
   "source": [
    "find_and_click(i('play'))\n",
    "find_and_click(i('until_preseason_begin'))"
   ]
  },
  {
   "cell_type": "code",
   "execution_count": 6,
   "id": "42c8919f",
   "metadata": {},
   "outputs": [
    {
     "data": {
      "text/plain": [
       "True"
      ]
     },
     "execution_count": 6,
     "metadata": {},
     "output_type": "execute_result"
    }
   ],
   "source": [
    "wait_image(i('preseason'), max_wait=600)"
   ]
  }
 ],
 "metadata": {
  "kernelspec": {
   "display_name": "Python 3 (ipykernel)",
   "language": "python",
   "name": "python3"
  },
  "language_info": {
   "codemirror_mode": {
    "name": "ipython",
    "version": 3
   },
   "file_extension": ".py",
   "mimetype": "text/x-python",
   "name": "python",
   "nbconvert_exporter": "python",
   "pygments_lexer": "ipython3",
   "version": "3.11.3"
  }
 },
 "nbformat": 4,
 "nbformat_minor": 5
}

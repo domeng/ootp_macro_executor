{
 "cells": [
  {
   "cell_type": "code",
   "execution_count": 1,
   "id": "0f7ef5b3",
   "metadata": {},
   "outputs": [],
   "source": [
    "import pyautogui as pg"
   ]
  },
  {
   "cell_type": "code",
   "execution_count": 2,
   "id": "a9393eba",
   "metadata": {},
   "outputs": [],
   "source": [
    "def find_and_click(img, grayscale = True, confidence=0.90, fail_on_not_found=True):\n",
    "    pos = pg.locateCenterOnScreen(img, grayscale = grayscale, confidence = confidence)\n",
    "    if pos is None:\n",
    "        if fail_on_not_found:\n",
    "            raise Exception(\"Can't find img\")\n",
    "        return False\n",
    "    pg.click(pos)\n",
    "    return True"
   ]
  },
  {
   "cell_type": "code",
   "execution_count": 9,
   "id": "5d8b83d6",
   "metadata": {},
   "outputs": [],
   "source": [
    "IMG_PATH = './images/ootp24/'"
   ]
  },
  {
   "cell_type": "code",
   "execution_count": 10,
   "id": "ef1948a1",
   "metadata": {},
   "outputs": [],
   "source": [
    "import time\n",
    "def dismiss_modal():\n",
    "    while find_and_click(IMG_PATH+'close.png'):\n",
    "        print(\"closed modal\")\n",
    "        time.sleep(2)"
   ]
  },
  {
   "cell_type": "code",
   "execution_count": 11,
   "id": "66d7bfdd",
   "metadata": {},
   "outputs": [],
   "source": [
    "dismiss_modal()"
   ]
  },
  {
   "cell_type": "code",
   "execution_count": 12,
   "id": "e15e378d",
   "metadata": {},
   "outputs": [],
   "source": [
    "find_and_click('./images/ootp24/start.png')"
   ]
  },
  {
   "cell_type": "code",
   "execution_count": 13,
   "id": "9001d75a",
   "metadata": {},
   "outputs": [],
   "source": [
    "find_and_click(IMG_PATH + 'optout_challenge.png')"
   ]
  },
  {
   "cell_type": "code",
   "execution_count": 14,
   "id": "18355946",
   "metadata": {},
   "outputs": [],
   "source": [
    "find_and_click(IMG_PATH + 'start_fictional.png')"
   ]
  },
  {
   "cell_type": "code",
   "execution_count": 15,
   "id": "b4bd5896",
   "metadata": {},
   "outputs": [],
   "source": [
    "find_and_click(IMG_PATH + 'next_step.png')"
   ]
  },
  {
   "cell_type": "code",
   "execution_count": 22,
   "id": "a334b5b6",
   "metadata": {},
   "outputs": [],
   "source": [
    "find_and_click(IMG_PATH + 'textinput_newgame.png')\n",
    "pg.press('delete')\n",
    "pg.typewrite('autotest')"
   ]
  },
  {
   "cell_type": "code",
   "execution_count": 18,
   "id": "298fe5ba",
   "metadata": {},
   "outputs": [],
   "source": []
  },
  {
   "cell_type": "code",
   "execution_count": null,
   "id": "5459b361",
   "metadata": {
    "collapsed": true
   },
   "outputs": [],
   "source": []
  },
  {
   "cell_type": "code",
   "execution_count": null,
   "id": "4cab4a86",
   "metadata": {},
   "outputs": [],
   "source": []
  }
 ],
 "metadata": {
  "kernelspec": {
   "display_name": "Python 3 (ipykernel)",
   "language": "python",
   "name": "python3"
  },
  "language_info": {
   "codemirror_mode": {
    "name": "ipython",
    "version": 3
   },
   "file_extension": ".py",
   "mimetype": "text/x-python",
   "name": "python",
   "nbconvert_exporter": "python",
   "pygments_lexer": "ipython3",
   "version": "3.11.3"
  }
 },
 "nbformat": 4,
 "nbformat_minor": 5
}

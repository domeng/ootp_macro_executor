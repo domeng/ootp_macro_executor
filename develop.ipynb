{
 "cells": [
  {
   "cell_type": "code",
   "execution_count": 1,
   "id": "0f7ef5b3",
   "metadata": {},
   "outputs": [],
   "source": [
    "import pyautogui as pg"
   ]
  },
  {
   "cell_type": "code",
   "execution_count": 18,
   "id": "a9393eba",
   "metadata": {},
   "outputs": [],
   "source": [
    "def find_and_click(img, grayscale = True, confidence=0.90, fail_on_not_found=True):\n",
    "    pos = pg.locateCenterOnScreen(img, grayscale = grayscale, confidence = confidence)\n",
    "    if pos is None:\n",
    "        if fail_on_not_found:\n",
    "            raise Exception(\"Can't find img\")\n",
    "        return False\n",
    "    pg.click(pos)\n",
    "    time.sleep(0.5)\n",
    "    return True"
   ]
  },
  {
   "cell_type": "code",
   "execution_count": 3,
   "id": "5d8b83d6",
   "metadata": {},
   "outputs": [],
   "source": [
    "IMG_PATH = './images/ootp24/'"
   ]
  },
  {
   "cell_type": "code",
   "execution_count": 6,
   "id": "ef1948a1",
   "metadata": {},
   "outputs": [],
   "source": [
    "import time\n",
    "def dismiss_modal():\n",
    "    while find_and_click(IMG_PATH+'close.png', fail_on_not_found=False):\n",
    "        print(\"closed modal\")\n",
    "        time.sleep(2)"
   ]
  },
  {
   "cell_type": "code",
   "execution_count": 7,
   "id": "66d7bfdd",
   "metadata": {},
   "outputs": [],
   "source": [
    "dismiss_modal()"
   ]
  },
  {
   "cell_type": "code",
   "execution_count": 8,
   "id": "e15e378d",
   "metadata": {},
   "outputs": [
    {
     "data": {
      "text/plain": [
       "True"
      ]
     },
     "execution_count": 8,
     "metadata": {},
     "output_type": "execute_result"
    }
   ],
   "source": [
    "find_and_click('./images/ootp24/start.png')"
   ]
  },
  {
   "cell_type": "code",
   "execution_count": 10,
   "id": "9001d75a",
   "metadata": {},
   "outputs": [
    {
     "data": {
      "text/plain": [
       "True"
      ]
     },
     "execution_count": 10,
     "metadata": {},
     "output_type": "execute_result"
    }
   ],
   "source": [
    "find_and_click(IMG_PATH + 'optout_challenge.png')"
   ]
  },
  {
   "cell_type": "code",
   "execution_count": 12,
   "id": "18355946",
   "metadata": {},
   "outputs": [
    {
     "data": {
      "text/plain": [
       "True"
      ]
     },
     "execution_count": 12,
     "metadata": {},
     "output_type": "execute_result"
    }
   ],
   "source": [
    "find_and_click(IMG_PATH + 'start_fictional.png')"
   ]
  },
  {
   "cell_type": "code",
   "execution_count": 13,
   "id": "b4bd5896",
   "metadata": {},
   "outputs": [
    {
     "data": {
      "text/plain": [
       "True"
      ]
     },
     "execution_count": 13,
     "metadata": {},
     "output_type": "execute_result"
    }
   ],
   "source": [
    "find_and_click(IMG_PATH + 'next_step.png')"
   ]
  },
  {
   "cell_type": "code",
   "execution_count": 16,
   "id": "26475c9b",
   "metadata": {},
   "outputs": [],
   "source": [
    "def wait_image(img, grayscale=True, confidence=0.90, max_wait=10):\n",
    "    for it in range(max_wait):\n",
    "        pos = pg.locateCenterOnScreen(img, grayscale = grayscale, confidence = confidence)\n",
    "        if pos != None:\n",
    "            return True\n",
    "        time.sleep(1)\n",
    "    return False\n"
   ]
  },
  {
   "cell_type": "code",
   "execution_count": 17,
   "id": "a0e5ec0d",
   "metadata": {},
   "outputs": [
    {
     "data": {
      "text/plain": [
       "True"
      ]
     },
     "execution_count": 17,
     "metadata": {},
     "output_type": "execute_result"
    }
   ],
   "source": [
    "wait_image(IMG_PATH + 'step_2_of_6.png')\n",
    "find_and_click(IMG_PATH + 'next_step.png')"
   ]
  },
  {
   "cell_type": "code",
   "execution_count": 19,
   "id": "ec09bb33",
   "metadata": {},
   "outputs": [
    {
     "data": {
      "text/plain": [
       "True"
      ]
     },
     "execution_count": 19,
     "metadata": {},
     "output_type": "execute_result"
    }
   ],
   "source": [
    "wait_image(IMG_PATH + 'step_3_of_6.png')\n",
    "find_and_click(IMG_PATH + 'toggle_fantasydraft.png')\n",
    "find_and_click(IMG_PATH + 'next_step.png')"
   ]
  },
  {
   "cell_type": "code",
   "execution_count": 20,
   "id": "8adc5361",
   "metadata": {},
   "outputs": [
    {
     "data": {
      "text/plain": [
       "True"
      ]
     },
     "execution_count": 20,
     "metadata": {},
     "output_type": "execute_result"
    }
   ],
   "source": [
    "wait_image(IMG_PATH + 'step_4_of_6.png')"
   ]
  },
  {
   "cell_type": "code",
   "execution_count": 22,
   "id": "a334b5b6",
   "metadata": {},
   "outputs": [],
   "source": [
    "wait_image(IMG_PATH + 'step_4_of_6.png')\n",
    "find_and_click(IMG_PATH + 'textinput_newgame.png')\n",
    "pg.press('delete')\n",
    "pg.typewrite('autotest')"
   ]
  },
  {
   "cell_type": "code",
   "execution_count": 18,
   "id": "298fe5ba",
   "metadata": {},
   "outputs": [],
   "source": []
  },
  {
   "cell_type": "code",
   "execution_count": null,
   "id": "5459b361",
   "metadata": {
    "collapsed": true
   },
   "outputs": [],
   "source": []
  },
  {
   "cell_type": "code",
   "execution_count": null,
   "id": "4cab4a86",
   "metadata": {},
   "outputs": [],
   "source": []
  }
 ],
 "metadata": {
  "kernelspec": {
   "display_name": "Python 3 (ipykernel)",
   "language": "python",
   "name": "python3"
  },
  "language_info": {
   "codemirror_mode": {
    "name": "ipython",
    "version": 3
   },
   "file_extension": ".py",
   "mimetype": "text/x-python",
   "name": "python",
   "nbconvert_exporter": "python",
   "pygments_lexer": "ipython3",
   "version": "3.11.0"
  }
 },
 "nbformat": 4,
 "nbformat_minor": 5
}

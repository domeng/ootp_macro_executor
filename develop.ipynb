{
 "cells": [
  {
   "cell_type": "code",
   "execution_count": 3,
   "metadata": {},
   "outputs": [],
   "source": [
    "from macro_module.common import find_and_click, wait_image, i, find_and_click_setting_value\n",
    "import time\n",
    "import pyautogui as pg"
   ]
  },
  {
   "cell_type": "code",
   "execution_count": 2,
   "metadata": {},
   "outputs": [],
   "source": [
    "img_path = './images/ootp24/'"
   ]
  },
  {
   "cell_type": "code",
   "execution_count": 8,
   "metadata": {},
   "outputs": [
    {
     "data": {
      "text/plain": [
       "True"
      ]
     },
     "execution_count": 8,
     "metadata": {},
     "output_type": "execute_result"
    }
   ],
   "source": [
    "# open league settings \n",
    "\n",
    "find_and_click(i('in_game_game_tab'))\n",
    "wait_image(i('game_tab_game_settings'))\n",
    "find_and_click(i('game_tab_game_settings'))\n",
    "wait_image(i('league_settings_under_game_setting'))\n",
    "find_and_click(i('league_settings_under_game_setting'))\n"
   ]
  },
  {
   "cell_type": "code",
   "execution_count": 13,
   "metadata": {},
   "outputs": [
    {
     "data": {
      "text/plain": [
       "[Box(left=934, top=324, width=51, height=14),\n",
       " Box(left=929, top=452, width=51, height=14),\n",
       " Box(left=905, top=662, width=51, height=14)]"
      ]
     },
     "execution_count": 13,
     "metadata": {},
     "output_type": "execute_result"
    }
   ],
   "source": [
    "x = pg.locateAllOnScreen(i('partial_import_btn'), grayscale=True, confidence=0.99)\n",
    "# import roster, stats, retired numbers\n",
    "import_btns = sorted([box for box in x], key=lambda b: b.top)"
   ]
  },
  {
   "cell_type": "code",
   "execution_count": 21,
   "metadata": {},
   "outputs": [],
   "source": [
    "x = pg.locateAllOnScreen(i('partial_export_btn'), grayscale=True, confidence=0.99)\n",
    "# export roster, stats, retired numbers\n",
    "export_btns = sorted([box for box in x], key=lambda b: b.top)\n",
    "print(export_btns)\n",
    "x = export_btns[0].left + export_btns[0].width/2\n",
    "y = export_btns[0].top + export_btns[0].height/2\n",
    "pg.click(x,y)\n",
    "\n",
    "wait_image(i('ok'))\n",
    "find_and_click(i('ok'))\n",
    "\n",
    "# wth... second popup has different color \n",
    "wait_image(i('ok_light'))\n",
    "find_and_click(i('ok_light'))\n"
   ]
  },
  {
   "cell_type": "code",
   "execution_count": 7,
   "metadata": {},
   "outputs": [],
   "source": [
    "from macro_module.preference import setup_do_not_disturb \n",
    "setup_do_not_disturb()"
   ]
  },
  {
   "cell_type": "code",
   "execution_count": 10,
   "metadata": {},
   "outputs": [
    {
     "data": {
      "text/plain": [
       "True"
      ]
     },
     "execution_count": 10,
     "metadata": {},
     "output_type": "execute_result"
    }
   ],
   "source": [
    "find_and_click(i('in_game_game_tab'))\n",
    "wait_image(i('game_tab_game_settings'))\n",
    "find_and_click(i('game_tab_game_settings'))\n"
   ]
  },
  {
   "cell_type": "code",
   "execution_count": 6,
   "metadata": {},
   "outputs": [
    {
     "name": "stdout",
     "output_type": "stream",
     "text": [
      "Point(x=961, y=412)\n"
     ]
    }
   ],
   "source": [
    "wait_image(i('game_setting_save_game_logs_from'))\n",
    "pos = pg.locateCenterOnScreen(i('game_setting_save_game_logs_from'), grayscale = True)\n",
    "pos2 = pg.locateCenterOnScreen(i('game_setting_down_arrow'), grayscale = True, region=(pos.x,pos.y-20,pos.x+1920,pos.y+20))\n",
    "print(pos2)\n",
    "if pos2 != None:\n",
    "    pg.click(pos2)\n",
    "    time.sleep(0.5)\n",
    "    pg.press('down')\n",
    "    time.sleep(0.5)\n",
    "    pg.keyDown('enter')\n",
    "    time.sleep(0.1)\n",
    "    pg.keyUp('enter')"
   ]
  },
  {
   "cell_type": "code",
   "execution_count": 7,
   "metadata": {},
   "outputs": [],
   "source": [
    "wait_image(i('game_setting_save_game_logs_from'))\n",
    "find_and_click_setting_value(i('game_setting_save_game_logs_from'))\n",
    "time.sleep(0.5)\n",
    "pg.press('down')\n",
    "time.sleep(0.5)\n",
    "pg.keyDown('enter')\n",
    "time.sleep(0.1)\n",
    "pg.keyUp('enter')"
   ]
  },
  {
   "cell_type": "code",
   "execution_count": 2,
   "metadata": {},
   "outputs": [
    {
     "data": {
      "text/plain": [
       "True"
      ]
     },
     "execution_count": 2,
     "metadata": {},
     "output_type": "execute_result"
    }
   ],
   "source": [
    "\n",
    "league_tab_img = 'fbl_virtual_league'\n",
    "find_and_click(i(league_tab_img))"
   ]
  },
  {
   "cell_type": "code",
   "execution_count": 3,
   "metadata": {},
   "outputs": [
    {
     "data": {
      "text/plain": [
       "True"
      ]
     },
     "execution_count": 3,
     "metadata": {},
     "output_type": "execute_result"
    }
   ],
   "source": [
    "find_and_click(i('league_settings'))"
   ]
  },
  {
   "cell_type": "code",
   "execution_count": 5,
   "metadata": {},
   "outputs": [
    {
     "data": {
      "text/plain": [
       "True"
      ]
     },
     "execution_count": 5,
     "metadata": {},
     "output_type": "execute_result"
    }
   ],
   "source": [
    "find_and_click(i('export_fbl_rosters'), confidence=0.995)\n",
    "#file name popup\n",
    "wait_image(i('ok'))\n",
    "find_and_click(i('ok'))\n",
    "time.sleep(0.5)\n",
    "#complete popup\n",
    "wait_image(i('ok'))\n",
    "find_and_click(i('ok'))"
   ]
  },
  {
   "cell_type": "code",
   "execution_count": 7,
   "metadata": {},
   "outputs": [
    {
     "data": {
      "text/plain": [
       "True"
      ]
     },
     "execution_count": 7,
     "metadata": {},
     "output_type": "execute_result"
    }
   ],
   "source": [
    "find_and_click(i('export_player_stats'), confidence=0.995)\n",
    "#confirm popup\n",
    "wait_image(i('ok'))\n",
    "find_and_click(i('ok'))\n",
    "time.sleep(0.5)\n",
    "#complete popup\n",
    "wait_image(i('ok'))\n",
    "find_and_click(i('ok'))"
   ]
  },
  {
   "cell_type": "code",
   "execution_count": 8,
   "metadata": {},
   "outputs": [],
   "source": [
    "from macro_module.preference import optimize_run, setup_dump_game_logs\n",
    "\n",
    "setup_dump_game_logs(True)\n",
    "optimize_run()\n"
   ]
  }
 ],
 "metadata": {
  "kernelspec": {
   "display_name": "Python 3 (ipykernel)",
   "language": "python",
   "name": "python3"
  },
  "language_info": {
   "codemirror_mode": {
    "name": "ipython",
    "version": 3
   },
   "file_extension": ".py",
   "mimetype": "text/x-python",
   "name": "python",
   "nbconvert_exporter": "python",
   "pygments_lexer": "ipython3",
   "version": "3.11.0"
  }
 },
 "nbformat": 4,
 "nbformat_minor": 2
}

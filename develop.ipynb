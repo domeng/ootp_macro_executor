{
 "cells": [
  {
   "cell_type": "code",
   "execution_count": 2,
   "metadata": {},
   "outputs": [],
   "source": [
    "from macro_module.common import find_and_click, wait_image, i\n",
    "import time\n",
    "import pyautogui as pg"
   ]
  },
  {
   "cell_type": "code",
   "execution_count": 2,
   "metadata": {},
   "outputs": [],
   "source": [
    "img_path = './images/ootp24/'"
   ]
  },
  {
   "cell_type": "code",
   "execution_count": 8,
   "metadata": {},
   "outputs": [
    {
     "data": {
      "text/plain": [
       "True"
      ]
     },
     "execution_count": 8,
     "metadata": {},
     "output_type": "execute_result"
    }
   ],
   "source": [
    "# open league settings \n",
    "\n",
    "find_and_click(i('in_game_game_tab'))\n",
    "wait_image(i('game_tab_game_settings'))\n",
    "find_and_click(i('game_tab_game_settings'))\n",
    "wait_image(i('league_settings_under_game_setting'))\n",
    "find_and_click(i('league_settings_under_game_setting'))\n"
   ]
  },
  {
   "cell_type": "code",
   "execution_count": 13,
   "metadata": {},
   "outputs": [
    {
     "data": {
      "text/plain": [
       "[Box(left=934, top=324, width=51, height=14),\n",
       " Box(left=929, top=452, width=51, height=14),\n",
       " Box(left=905, top=662, width=51, height=14)]"
      ]
     },
     "execution_count": 13,
     "metadata": {},
     "output_type": "execute_result"
    }
   ],
   "source": [
    "x = pg.locateAllOnScreen(i('partial_import_btn'), grayscale=True, confidence=0.99)\n",
    "# import roster, stats, retired numbers\n",
    "import_btns = sorted([box for box in x], key=lambda b: b.top)"
   ]
  },
  {
   "cell_type": "code",
   "execution_count": 19,
   "metadata": {},
   "outputs": [
    {
     "name": "stdout",
     "output_type": "stream",
     "text": [
      "[Box(left=935, top=388, width=48, height=15), Box(left=930, top=534, width=48, height=15), Box(left=913, top=598, width=48, height=15), Box(left=906, top=708, width=48, height=15)]\n"
     ]
    },
    {
     "ename": "Exception",
     "evalue": "Can't find img",
     "output_type": "error",
     "traceback": [
      "\u001b[1;31m---------------------------------------------------------------------------\u001b[0m",
      "\u001b[1;31mException\u001b[0m                                 Traceback (most recent call last)",
      "\u001b[1;32mc:\\Users\\goreh\\Code\\ootp_macro_executor\\develop.ipynb Cell 5\u001b[0m in \u001b[0;36m1\n\u001b[0;32m     <a href='vscode-notebook-cell:/c%3A/Users/goreh/Code/ootp_macro_executor/develop.ipynb#X15sZmlsZQ%3D%3D?line=9'>10</a>\u001b[0m find_and_click(i(\u001b[39m'\u001b[39m\u001b[39mok\u001b[39m\u001b[39m'\u001b[39m))\n\u001b[0;32m     <a href='vscode-notebook-cell:/c%3A/Users/goreh/Code/ootp_macro_executor/develop.ipynb#X15sZmlsZQ%3D%3D?line=10'>11</a>\u001b[0m time\u001b[39m.\u001b[39msleep(\u001b[39m1\u001b[39m)\n\u001b[1;32m---> <a href='vscode-notebook-cell:/c%3A/Users/goreh/Code/ootp_macro_executor/develop.ipynb#X15sZmlsZQ%3D%3D?line=12'>13</a>\u001b[0m wait_image(i(\u001b[39m'\u001b[39;49m\u001b[39mok\u001b[39;49m\u001b[39m'\u001b[39;49m))\n\u001b[0;32m     <a href='vscode-notebook-cell:/c%3A/Users/goreh/Code/ootp_macro_executor/develop.ipynb#X15sZmlsZQ%3D%3D?line=13'>14</a>\u001b[0m find_and_click(i(\u001b[39m'\u001b[39m\u001b[39mok\u001b[39m\u001b[39m'\u001b[39m))\n\u001b[0;32m     <a href='vscode-notebook-cell:/c%3A/Users/goreh/Code/ootp_macro_executor/develop.ipynb#X15sZmlsZQ%3D%3D?line=14'>15</a>\u001b[0m time\u001b[39m.\u001b[39msleep(\u001b[39m1\u001b[39m)\n",
      "File \u001b[1;32mc:\\Users\\goreh\\Code\\ootp_macro_executor\\module\\common.py:36\u001b[0m, in \u001b[0;36mwait_image\u001b[1;34m(img, grayscale, confidence, max_wait, fail_on_not_found)\u001b[0m\n",
      "\u001b[1;31mException\u001b[0m: Can't find img"
     ]
    }
   ],
   "source": [
    "x = pg.locateAllOnScreen(i('partial_export_btn'), grayscale=True, confidence=0.99)\n",
    "# export roster, stats, retired numbers\n",
    "export_btns = sorted([box for box in x], key=lambda b: b.top)\n",
    "print(export_btns)\n",
    "x = export_btns[0].left + export_btns[0].width/2\n",
    "y = export_btns[0].top + export_btns[0].height/2\n",
    "pg.click(x,y)\n",
    "\n",
    "wait_image(i('ok'))\n",
    "find_and_click(i('ok'))\n",
    "\n",
    "# wth... second popup has different color \n",
    "wait_image(i('ok_light'))\n",
    "find_and_click(i('ok_light'))\n"
   ]
  },
  {
   "cell_type": "code",
   "execution_count": 7,
   "metadata": {},
   "outputs": [],
   "source": [
    "from macro_module.preference import setup_do_not_disturb \n",
    "setup_do_not_disturb()"
   ]
  },
  {
   "cell_type": "code",
   "execution_count": 10,
   "metadata": {},
   "outputs": [
    {
     "data": {
      "text/plain": [
       "True"
      ]
     },
     "execution_count": 10,
     "metadata": {},
     "output_type": "execute_result"
    }
   ],
   "source": [
    "find_and_click(i('in_game_game_tab'))\n",
    "wait_image(i('game_tab_game_settings'))\n",
    "find_and_click(i('game_tab_game_settings'))\n"
   ]
  },
  {
   "cell_type": "code",
   "execution_count": 18,
   "metadata": {},
   "outputs": [
    {
     "name": "stdout",
     "output_type": "stream",
     "text": [
      "Point(x=991, y=434)\n"
     ]
    }
   ],
   "source": [
    "wait_image(i('game_setting_save_game_logs_from'))\n",
    "pos = pg.locateCenterOnScreen(i('game_setting_save_game_logs_from'), grayscale = True)\n",
    "pos2 = pg.locateCenterOnScreen(i('human_teams'), grayscale = True, region=(pos.x,pos.y-20,pos.x+1920,pos.y+20))\n",
    "print(pos2)\n",
    "if pos2 != None:\n",
    "    pg.click(pos2)\n",
    "    time.sleep(0.5)\n",
    "    pg.press('down')\n",
    "    time.sleep(0.5)\n",
    "    pg.keyDown('enter')\n",
    "    time.sleep(0.1)\n",
    "    pg.keyUp('enter')"
   ]
  },
  {
   "cell_type": "code",
   "execution_count": 2,
   "metadata": {},
   "outputs": [
    {
     "data": {
      "text/plain": [
       "True"
      ]
     },
     "execution_count": 2,
     "metadata": {},
     "output_type": "execute_result"
    }
   ],
   "source": [
    "\n",
    "league_tab_img = 'fbl_virtual_league'\n",
    "find_and_click(i(league_tab_img))"
   ]
  },
  {
   "cell_type": "code",
   "execution_count": 3,
   "metadata": {},
   "outputs": [
    {
     "data": {
      "text/plain": [
       "True"
      ]
     },
     "execution_count": 3,
     "metadata": {},
     "output_type": "execute_result"
    }
   ],
   "source": [
    "find_and_click(i('league_settings'))"
   ]
  },
  {
   "cell_type": "code",
   "execution_count": 5,
   "metadata": {},
   "outputs": [
    {
     "data": {
      "text/plain": [
       "True"
      ]
     },
     "execution_count": 5,
     "metadata": {},
     "output_type": "execute_result"
    }
   ],
   "source": [
    "find_and_click(i('export_fbl_rosters'), confidence=0.995)\n",
    "#file name popup\n",
    "wait_image(i('ok'))\n",
    "find_and_click(i('ok'))\n",
    "time.sleep(0.5)\n",
    "#complete popup\n",
    "wait_image(i('ok'))\n",
    "find_and_click(i('ok'))"
   ]
  },
  {
   "cell_type": "code",
   "execution_count": 7,
   "metadata": {},
   "outputs": [
    {
     "data": {
      "text/plain": [
       "True"
      ]
     },
     "execution_count": 7,
     "metadata": {},
     "output_type": "execute_result"
    }
   ],
   "source": [
    "find_and_click(i('export_player_stats'), confidence=0.995)\n",
    "#confirm popup\n",
    "wait_image(i('ok'))\n",
    "find_and_click(i('ok'))\n",
    "time.sleep(0.5)\n",
    "#complete popup\n",
    "wait_image(i('ok'))\n",
    "find_and_click(i('ok'))"
   ]
  },
  {
   "cell_type": "code",
   "execution_count": null,
   "metadata": {},
   "outputs": [],
   "source": []
  }
 ],
 "metadata": {
  "kernelspec": {
   "display_name": "Python 3 (ipykernel)",
   "language": "python",
   "name": "python3"
  },
  "language_info": {
   "codemirror_mode": {
    "name": "ipython",
    "version": 3
   },
   "file_extension": ".py",
   "mimetype": "text/x-python",
   "name": "python",
   "nbconvert_exporter": "python",
   "pygments_lexer": "ipython3",
   "version": "3.11.0"
  }
 },
 "nbformat": 4,
 "nbformat_minor": 2
}

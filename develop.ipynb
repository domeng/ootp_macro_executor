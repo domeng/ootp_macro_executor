{
 "cells": [
  {
   "cell_type": "code",
   "execution_count": 1,
   "id": "0f7ef5b3",
   "metadata": {},
   "outputs": [],
   "source": [
    "import pyautogui as pg"
   ]
  },
  {
   "cell_type": "code",
   "execution_count": 2,
   "id": "a9393eba",
   "metadata": {},
   "outputs": [],
   "source": [
    "def find_and_click(img, grayscale = True, confidence=0.90, fail_on_not_found=True):\n",
    "    pos = pg.locateCenterOnScreen(img, grayscale = grayscale, confidence = confidence)\n",
    "    if pos is None:\n",
    "        if fail_on_not_found:\n",
    "            raise Exception(\"Can't find img\")\n",
    "        return False\n",
    "    print(pos)\n",
    "    pg.click(pos)\n",
    "    time.sleep(0.5)\n",
    "    return True\n",
    "\n",
    "def wait_image(img, grayscale=True, confidence=0.90, max_wait=10, fail_on_not_found = True):\n",
    "    for it in range(max_wait):\n",
    "        pos = pg.locateCenterOnScreen(img, grayscale = grayscale, confidence = confidence)\n",
    "        if pos != None:\n",
    "            return True\n",
    "        time.sleep(1)\n",
    "    if fail_on_not_found:\n",
    "        raise Exception(\"Can't find img\")\n",
    "    return False\n"
   ]
  },
  {
   "cell_type": "code",
   "execution_count": 3,
   "id": "5d8b83d6",
   "metadata": {},
   "outputs": [],
   "source": [
    "IMG_PATH = './images/ootp24/laptop/'"
   ]
  },
  {
   "cell_type": "code",
   "execution_count": 4,
   "id": "ef1948a1",
   "metadata": {},
   "outputs": [],
   "source": [
    "import time\n",
    "def dismiss_modal():\n",
    "    while find_and_click(IMG_PATH+'close.png', fail_on_not_found=False):\n",
    "        print(\"closed modal\")\n",
    "        time.sleep(2)"
   ]
  },
  {
   "cell_type": "code",
   "execution_count": 5,
   "id": "66d7bfdd",
   "metadata": {},
   "outputs": [],
   "source": [
    "dismiss_modal()"
   ]
  },
  {
   "cell_type": "code",
   "execution_count": 6,
   "id": "e15e378d",
   "metadata": {},
   "outputs": [
    {
     "name": "stdout",
     "output_type": "stream",
     "text": [
      "Point(x=85, y=713)\n"
     ]
    },
    {
     "data": {
      "text/plain": [
       "True"
      ]
     },
     "execution_count": 6,
     "metadata": {},
     "output_type": "execute_result"
    }
   ],
   "source": [
    "find_and_click(IMG_PATH + 'start.png')"
   ]
  },
  {
   "cell_type": "code",
   "execution_count": 7,
   "id": "9001d75a",
   "metadata": {},
   "outputs": [
    {
     "name": "stdout",
     "output_type": "stream",
     "text": [
      "Point(x=651, y=810)\n"
     ]
    },
    {
     "data": {
      "text/plain": [
       "True"
      ]
     },
     "execution_count": 7,
     "metadata": {},
     "output_type": "execute_result"
    }
   ],
   "source": [
    "find_and_click(IMG_PATH + 'optout_challenge.png')"
   ]
  },
  {
   "cell_type": "code",
   "execution_count": 8,
   "id": "18355946",
   "metadata": {},
   "outputs": [
    {
     "name": "stdout",
     "output_type": "stream",
     "text": [
      "Point(x=328, y=369)\n"
     ]
    },
    {
     "data": {
      "text/plain": [
       "True"
      ]
     },
     "execution_count": 8,
     "metadata": {},
     "output_type": "execute_result"
    }
   ],
   "source": [
    "wait_image(IMG_PATH + 'start_fictional.png')\n",
    "find_and_click(IMG_PATH + 'start_fictional.png')"
   ]
  },
  {
   "cell_type": "code",
   "execution_count": 9,
   "id": "b4bd5896",
   "metadata": {},
   "outputs": [
    {
     "name": "stdout",
     "output_type": "stream",
     "text": [
      "Point(x=1144, y=935)\n"
     ]
    },
    {
     "data": {
      "text/plain": [
       "True"
      ]
     },
     "execution_count": 9,
     "metadata": {},
     "output_type": "execute_result"
    }
   ],
   "source": [
    "find_and_click(IMG_PATH + 'next_step.png')"
   ]
  },
  {
   "cell_type": "code",
   "execution_count": null,
   "id": "26475c9b",
   "metadata": {},
   "outputs": [],
   "source": []
  },
  {
   "cell_type": "code",
   "execution_count": 10,
   "id": "a0e5ec0d",
   "metadata": {},
   "outputs": [
    {
     "name": "stdout",
     "output_type": "stream",
     "text": [
      "Point(x=1144, y=935)\n"
     ]
    },
    {
     "data": {
      "text/plain": [
       "True"
      ]
     },
     "execution_count": 10,
     "metadata": {},
     "output_type": "execute_result"
    }
   ],
   "source": [
    "wait_image(IMG_PATH + 'step_2_of_6.png')\n",
    "find_and_click(IMG_PATH + 'next_step.png')"
   ]
  },
  {
   "cell_type": "code",
   "execution_count": 11,
   "id": "ec09bb33",
   "metadata": {},
   "outputs": [
    {
     "ename": "Exception",
     "evalue": "Can't find img",
     "output_type": "error",
     "traceback": [
      "\u001b[1;31m---------------------------------------------------------------------------\u001b[0m",
      "\u001b[1;31mException\u001b[0m                                 Traceback (most recent call last)",
      "Cell \u001b[1;32mIn[11], line 2\u001b[0m\n\u001b[0;32m      1\u001b[0m wait_image(IMG_PATH \u001b[38;5;241m+\u001b[39m \u001b[38;5;124m'\u001b[39m\u001b[38;5;124mstep_3_of_6.png\u001b[39m\u001b[38;5;124m'\u001b[39m)\n\u001b[1;32m----> 2\u001b[0m \u001b[43mfind_and_click\u001b[49m\u001b[43m(\u001b[49m\u001b[43mIMG_PATH\u001b[49m\u001b[43m \u001b[49m\u001b[38;5;241;43m+\u001b[39;49m\u001b[43m \u001b[49m\u001b[38;5;124;43m'\u001b[39;49m\u001b[38;5;124;43mtoggle_fantasydraft.png\u001b[39;49m\u001b[38;5;124;43m'\u001b[39;49m\u001b[43m)\u001b[49m\n\u001b[0;32m      3\u001b[0m find_and_click(IMG_PATH \u001b[38;5;241m+\u001b[39m \u001b[38;5;124m'\u001b[39m\u001b[38;5;124mnext_step.png\u001b[39m\u001b[38;5;124m'\u001b[39m)\n",
      "Cell \u001b[1;32mIn[2], line 5\u001b[0m, in \u001b[0;36mfind_and_click\u001b[1;34m(img, grayscale, confidence, fail_on_not_found)\u001b[0m\n\u001b[0;32m      3\u001b[0m \u001b[38;5;28;01mif\u001b[39;00m pos \u001b[38;5;129;01mis\u001b[39;00m \u001b[38;5;28;01mNone\u001b[39;00m:\n\u001b[0;32m      4\u001b[0m     \u001b[38;5;28;01mif\u001b[39;00m fail_on_not_found:\n\u001b[1;32m----> 5\u001b[0m         \u001b[38;5;28;01mraise\u001b[39;00m \u001b[38;5;167;01mException\u001b[39;00m(\u001b[38;5;124m\"\u001b[39m\u001b[38;5;124mCan\u001b[39m\u001b[38;5;124m'\u001b[39m\u001b[38;5;124mt find img\u001b[39m\u001b[38;5;124m\"\u001b[39m)\n\u001b[0;32m      6\u001b[0m     \u001b[38;5;28;01mreturn\u001b[39;00m \u001b[38;5;28;01mFalse\u001b[39;00m\n\u001b[0;32m      7\u001b[0m \u001b[38;5;28mprint\u001b[39m(pos)\n",
      "\u001b[1;31mException\u001b[0m: Can't find img"
     ]
    }
   ],
   "source": [
    "wait_image(IMG_PATH + 'step_3_of_6.png')\n",
    "find_and_click(IMG_PATH + 'toggle_fantasydraft.png')\n",
    "find_and_click(IMG_PATH + 'next_step.png')"
   ]
  },
  {
   "cell_type": "code",
   "execution_count": null,
   "id": "8adc5361",
   "metadata": {},
   "outputs": [],
   "source": [
    "wait_image(IMG_PATH + 'step_4_of_6.png')\n",
    "find_and_click(IMG_PATH + 'toggle_leagueevolv.png')\n",
    "find_and_click(IMG_PATH + 'next_step.png')"
   ]
  },
  {
   "cell_type": "code",
   "execution_count": null,
   "id": "a334b5b6",
   "metadata": {},
   "outputs": [],
   "source": [
    "find_and_click(IMG_PATH + 'textinput_newgame.png')\n",
    "pg.press('delete')\n",
    "pg.typewrite('autotest_20230521')\n",
    "time.sleep(1)\n",
    "find_and_click(IMG_PATH + 'next_step.png')"
   ]
  },
  {
   "cell_type": "code",
   "execution_count": null,
   "id": "298fe5ba",
   "metadata": {},
   "outputs": [],
   "source": [
    "wait_image(IMG_PATH + 'step_6_of_6.png', max_wait=60)\n",
    "find_and_click(IMG_PATH + 'start_game.png')"
   ]
  },
  {
   "cell_type": "code",
   "execution_count": null,
   "id": "5459b361",
   "metadata": {},
   "outputs": [],
   "source": [
    "wait_image(IMG_PATH + 'in_game_file_tab.png')"
   ]
  },
  {
   "cell_type": "code",
   "execution_count": null,
   "id": "4cab4a86",
   "metadata": {},
   "outputs": [],
   "source": []
  }
 ],
 "metadata": {
  "kernelspec": {
   "display_name": "Python 3 (ipykernel)",
   "language": "python",
   "name": "python3"
  },
  "language_info": {
   "codemirror_mode": {
    "name": "ipython",
    "version": 3
   },
   "file_extension": ".py",
   "mimetype": "text/x-python",
   "name": "python",
   "nbconvert_exporter": "python",
   "pygments_lexer": "ipython3",
   "version": "3.11.3"
  }
 },
 "nbformat": 4,
 "nbformat_minor": 5
}

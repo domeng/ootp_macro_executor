{
 "cells": [
  {
   "cell_type": "code",
   "execution_count": 1,
   "id": "fe365c92",
   "metadata": {},
   "outputs": [],
   "source": [
    "import pyautogui as pg\n",
    "import time\n",
    "from common import find_and_click, wait_image"
   ]
  },
  {
   "cell_type": "code",
   "execution_count": 2,
   "id": "bcf969c8",
   "metadata": {},
   "outputs": [],
   "source": [
    "img_path = './images/ootp24/'\n",
    "def i(path):\n",
    "    return img_path + path + '.png'"
   ]
  },
  {
   "cell_type": "code",
   "execution_count": 10,
   "id": "b5a13e15",
   "metadata": {},
   "outputs": [
    {
     "data": {
      "text/plain": [
       "True"
      ]
     },
     "execution_count": 10,
     "metadata": {},
     "output_type": "execute_result"
    }
   ],
   "source": [
    "find_and_click(i('jim_smith_manager_name'))\n",
    "find_and_click(i('manager_options'), confidence=0.995)"
   ]
  },
  {
   "cell_type": "code",
   "execution_count": 11,
   "id": "47aac555",
   "metadata": {},
   "outputs": [
    {
     "data": {
      "text/plain": [
       "True"
      ]
     },
     "execution_count": 11,
     "metadata": {},
     "output_type": "execute_result"
    }
   ],
   "source": [
    "find_and_click(i('toggle_donotdisturb'))"
   ]
  },
  {
   "cell_type": "code",
   "execution_count": null,
   "id": "8dca3682",
   "metadata": {},
   "outputs": [],
   "source": []
  },
  {
   "cell_type": "code",
   "execution_count": null,
   "id": "14b201d9",
   "metadata": {},
   "outputs": [],
   "source": []
  }
 ],
 "metadata": {
  "kernelspec": {
   "display_name": "Python 3 (ipykernel)",
   "language": "python",
   "name": "python3"
  },
  "language_info": {
   "codemirror_mode": {
    "name": "ipython",
    "version": 3
   },
   "file_extension": ".py",
   "mimetype": "text/x-python",
   "name": "python",
   "nbconvert_exporter": "python",
   "pygments_lexer": "ipython3",
   "version": "3.11.3"
  }
 },
 "nbformat": 4,
 "nbformat_minor": 5
}
